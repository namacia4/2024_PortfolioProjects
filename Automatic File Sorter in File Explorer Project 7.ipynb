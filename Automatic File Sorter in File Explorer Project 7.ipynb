{
 "cells": [
  {
   "cell_type": "code",
   "execution_count": 1,
   "id": "785f7c16",
   "metadata": {},
   "outputs": [],
   "source": [
    "import os, shutil"
   ]
  },
  {
   "cell_type": "code",
   "execution_count": 7,
   "id": "498e40e1",
   "metadata": {},
   "outputs": [],
   "source": [
    "path= r\"/Users/nancymacias/Desktop/Python Tut/\""
   ]
  },
  {
   "cell_type": "code",
   "execution_count": 11,
   "id": "6d6ca430",
   "metadata": {},
   "outputs": [],
   "source": [
    "file_name= os.listdir(path)"
   ]
  },
  {
   "cell_type": "code",
   "execution_count": 10,
   "id": "98239317",
   "metadata": {},
   "outputs": [
    {
     "name": "stdout",
     "output_type": "stream",
     "text": [
      "/Users/nancymacias/Desktop/Python Tut/screenshot files\n"
     ]
    }
   ],
   "source": [
    "folder_names= ['excel files', 'docx files', 'screenshot files']\n",
    "\n",
    "for loop in range(0,3):\n",
    "    if not os.path.exists(path + folder_names[loop]):\n",
    "        #print (path + folder_names[loop])\n",
    "        os.makedirs(path + folder_names[loop])"
   ]
  },
  {
   "cell_type": "code",
   "execution_count": 14,
   "id": "9334379e",
   "metadata": {},
   "outputs": [
    {
     "name": "stdout",
     "output_type": "stream",
     "text": [
      "There are files in this path that don't have a folder.\n",
      "There are files in this path that don't have a folder.\n",
      "There are files in this path that don't have a folder.\n",
      "There are files in this path that don't have a folder.\n",
      "There are files in this path that don't have a folder.\n"
     ]
    }
   ],
   "source": [
    "for file in file_name:\n",
    "    if \".xlsx\" in file and not os.path.exists(path + 'excel files/' + file):\n",
    "        shutil.move(path + file, path + 'excel files/' + file)\n",
    "    elif \".docx\" in file and not os.path.exists(path + 'docx files/' + file):\n",
    "        shutil.move(path + file, path + 'docx files/' + file)\n",
    "    elif \"Screen Shot\" in file and not os.path.exists(path + 'screenshot files/' + file):\n",
    "        shutil.move(path + file, path + 'screenshot files/' + file)\n",
    "    else:\n",
    "        print (\"There are files in this path that don't have a folder.\")"
   ]
  },
  {
   "cell_type": "code",
   "execution_count": null,
   "id": "5bac464f",
   "metadata": {},
   "outputs": [],
   "source": []
  }
 ],
 "metadata": {
  "kernelspec": {
   "display_name": "Python 3 (ipykernel)",
   "language": "python",
   "name": "python3"
  },
  "language_info": {
   "codemirror_mode": {
    "name": "ipython",
    "version": 3
   },
   "file_extension": ".py",
   "mimetype": "text/x-python",
   "name": "python",
   "nbconvert_exporter": "python",
   "pygments_lexer": "ipython3",
   "version": "3.11.5"
  }
 },
 "nbformat": 4,
 "nbformat_minor": 5
}
